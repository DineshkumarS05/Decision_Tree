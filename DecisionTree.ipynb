{
  "nbformat": 4,
  "nbformat_minor": 0,
  "metadata": {
    "colab": {
      "provenance": []
    },
    "kernelspec": {
      "name": "python3",
      "display_name": "Python 3"
    },
    "language_info": {
      "name": "python"
    }
  },
  "cells": [
    {
      "cell_type": "code",
      "execution_count": null,
      "metadata": {
        "id": "nbNWqrI3QrTQ"
      },
      "outputs": [],
      "source": [
        "import pandas as pd\n",
        "from sklearn.tree import DecisionTreeClassifier\n",
        "from sklearn.model_selection import train_test_split\n",
        "from sklearn.preprocessing import StandardScaler\n",
        "from sklearn import metrics\n"
      ]
    },
    {
      "cell_type": "code",
      "source": [
        "df = pd.read_csv('/content/sample_data/cars.csv')"
      ],
      "metadata": {
        "id": "_ixqCfhvQ3Ii"
      },
      "execution_count": null,
      "outputs": []
    },
    {
      "cell_type": "code",
      "source": [
        "df.head(50)"
      ],
      "metadata": {
        "colab": {
          "base_uri": "https://localhost:8080/",
          "height": 1000
        },
        "id": "QqaVqGW8Z5cg",
        "outputId": "19b38cba-d096-4d47-cffa-cc518a5578de"
      },
      "execution_count": null,
      "outputs": [
        {
          "output_type": "execute_result",
          "data": {
            "text/plain": [
              "     mpg   cylinders   cubicinches   hp  weightlbs   time-to-60   year  \\\n",
              "0   14.0           8           350  165       4209           12   1972   \n",
              "1   31.9           4            89   71       1925           14   1980   \n",
              "2   17.0           8           302  140       3449           11   1971   \n",
              "3   15.0           8           400  150       3761           10   1971   \n",
              "4   30.5           4            98   63       2051           17   1978   \n",
              "5   23.0           8           350  125       3900           17   1980   \n",
              "6   13.0           8           351  158       4363           13   1974   \n",
              "7   14.0           8           440  215       4312            9   1971   \n",
              "8   25.4           5           183   77       3530           20   1980   \n",
              "9   37.7           4            89   62       2050           17   1982   \n",
              "10  34.0           4           108   70       2245           17   1983   \n",
              "11  34.3           4            97   78       2188           16   1981   \n",
              "12  16.0           8           302  140       4141           14   1975   \n",
              "13  11.0           8           350  180       3664           11   1974   \n",
              "14  19.1           6           225   90                      19   1981   \n",
              "15  16.9           8           350  155       4360           15   1980   \n",
              "16  31.8           4            85   65       2020           19   1980   \n",
              "17  16.0           8           304  150       3433           12   1971   \n",
              "18  24.0           4           113   95       2278           16   1973   \n",
              "19  24.0           4           107   90       2430           15   1971   \n",
              "20  37.2           4            86   65       2019           16   1981   \n",
              "21  21.5           4           121  110       2600           13   1978   \n",
              "22  24.0           6           200   81       3012           18   1977   \n",
              "23  15.5           8           351  142       4054           14   1980   \n",
              "24  38.1           4            89   60       1968           19   1981   \n",
              "25  33.0           4            91   53       1795           17   1977   \n",
              "26  31.0           4            71   65       1773           19   1972   \n",
              "27  14.0           8           351  148       4657           14   1976   \n",
              "28  18.0           6           250   78       3574           21   1977   \n",
              "29  29.9           4            98   65       2380           21   1982   \n",
              "30  27.0           4            97   88       2130           15   1971   \n",
              "31  16.0           6           250  100       3278           18   1974   \n",
              "32  23.0           4           120   97       2506           15   1973   \n",
              "33  21.0           6           199   90                      15   1971   \n",
              "34  30.0           4            97   67       1985           16   1978   \n",
              "35  22.4           6           231  110       3415           16   1982   \n",
              "36  26.0           4            97   46       1835           21   1971   \n",
              "37  21.5           3            80  110       2720           14   1978   \n",
              "38  16.5           8           351  138       3955           13   1980   \n",
              "39  20.2           6           232   90       3265           18   1980   \n",
              "40  16.0           6           278  105       3897           19   1976   \n",
              "41  14.0           8           302  140       4638           16   1975   \n",
              "42  18.5           6           250  110       3645           16   1977   \n",
              "43  17.5           6           250  110       3520           16   1978   \n",
              "44  14.0           8           455  225       3086           10   1971   \n",
              "45  31.6           4           120   74       2635           18   1982   \n",
              "46  13.0           8           318  150       3755           14   1977   \n",
              "47  22.0           4           122   86       2395           16   1973   \n",
              "48  29.0           4            97   78       1940           15   1978   \n",
              "49  20.2           6           200   88       3060           17   1982   \n",
              "\n",
              "       brand  \n",
              "0        US.  \n",
              "1    Europe.  \n",
              "2        US.  \n",
              "3        US.  \n",
              "4        US.  \n",
              "5        US.  \n",
              "6        US.  \n",
              "7        US.  \n",
              "8    Europe.  \n",
              "9     Japan.  \n",
              "10    Japan.  \n",
              "11   Europe.  \n",
              "12       US.  \n",
              "13       US.  \n",
              "14       US.  \n",
              "15       US.  \n",
              "16    Japan.  \n",
              "17       US.  \n",
              "18    Japan.  \n",
              "19   Europe.  \n",
              "20    Japan.  \n",
              "21   Europe.  \n",
              "22       US.  \n",
              "23       US.  \n",
              "24    Japan.  \n",
              "25    Japan.  \n",
              "26    Japan.  \n",
              "27       US.  \n",
              "28       US.  \n",
              "29       US.  \n",
              "30    Japan.  \n",
              "31       US.  \n",
              "32    Japan.  \n",
              "33       US.  \n",
              "34    Japan.  \n",
              "35       US.  \n",
              "36   Europe.  \n",
              "37    Japan.  \n",
              "38       US.  \n",
              "39       US.  \n",
              "40       US.  \n",
              "41       US.  \n",
              "42       US.  \n",
              "43       US.  \n",
              "44       US.  \n",
              "45    Japan.  \n",
              "46       US.  \n",
              "47       US.  \n",
              "48   Europe.  \n",
              "49       US.  "
            ],
            "text/html": [
              "\n",
              "  <div id=\"df-c40cee83-512b-412f-bb5e-4ee5caf24a88\">\n",
              "    <div class=\"colab-df-container\">\n",
              "      <div>\n",
              "<style scoped>\n",
              "    .dataframe tbody tr th:only-of-type {\n",
              "        vertical-align: middle;\n",
              "    }\n",
              "\n",
              "    .dataframe tbody tr th {\n",
              "        vertical-align: top;\n",
              "    }\n",
              "\n",
              "    .dataframe thead th {\n",
              "        text-align: right;\n",
              "    }\n",
              "</style>\n",
              "<table border=\"1\" class=\"dataframe\">\n",
              "  <thead>\n",
              "    <tr style=\"text-align: right;\">\n",
              "      <th></th>\n",
              "      <th>mpg</th>\n",
              "      <th>cylinders</th>\n",
              "      <th>cubicinches</th>\n",
              "      <th>hp</th>\n",
              "      <th>weightlbs</th>\n",
              "      <th>time-to-60</th>\n",
              "      <th>year</th>\n",
              "      <th>brand</th>\n",
              "    </tr>\n",
              "  </thead>\n",
              "  <tbody>\n",
              "    <tr>\n",
              "      <th>0</th>\n",
              "      <td>14.0</td>\n",
              "      <td>8</td>\n",
              "      <td>350</td>\n",
              "      <td>165</td>\n",
              "      <td>4209</td>\n",
              "      <td>12</td>\n",
              "      <td>1972</td>\n",
              "      <td>US.</td>\n",
              "    </tr>\n",
              "    <tr>\n",
              "      <th>1</th>\n",
              "      <td>31.9</td>\n",
              "      <td>4</td>\n",
              "      <td>89</td>\n",
              "      <td>71</td>\n",
              "      <td>1925</td>\n",
              "      <td>14</td>\n",
              "      <td>1980</td>\n",
              "      <td>Europe.</td>\n",
              "    </tr>\n",
              "    <tr>\n",
              "      <th>2</th>\n",
              "      <td>17.0</td>\n",
              "      <td>8</td>\n",
              "      <td>302</td>\n",
              "      <td>140</td>\n",
              "      <td>3449</td>\n",
              "      <td>11</td>\n",
              "      <td>1971</td>\n",
              "      <td>US.</td>\n",
              "    </tr>\n",
              "    <tr>\n",
              "      <th>3</th>\n",
              "      <td>15.0</td>\n",
              "      <td>8</td>\n",
              "      <td>400</td>\n",
              "      <td>150</td>\n",
              "      <td>3761</td>\n",
              "      <td>10</td>\n",
              "      <td>1971</td>\n",
              "      <td>US.</td>\n",
              "    </tr>\n",
              "    <tr>\n",
              "      <th>4</th>\n",
              "      <td>30.5</td>\n",
              "      <td>4</td>\n",
              "      <td>98</td>\n",
              "      <td>63</td>\n",
              "      <td>2051</td>\n",
              "      <td>17</td>\n",
              "      <td>1978</td>\n",
              "      <td>US.</td>\n",
              "    </tr>\n",
              "    <tr>\n",
              "      <th>5</th>\n",
              "      <td>23.0</td>\n",
              "      <td>8</td>\n",
              "      <td>350</td>\n",
              "      <td>125</td>\n",
              "      <td>3900</td>\n",
              "      <td>17</td>\n",
              "      <td>1980</td>\n",
              "      <td>US.</td>\n",
              "    </tr>\n",
              "    <tr>\n",
              "      <th>6</th>\n",
              "      <td>13.0</td>\n",
              "      <td>8</td>\n",
              "      <td>351</td>\n",
              "      <td>158</td>\n",
              "      <td>4363</td>\n",
              "      <td>13</td>\n",
              "      <td>1974</td>\n",
              "      <td>US.</td>\n",
              "    </tr>\n",
              "    <tr>\n",
              "      <th>7</th>\n",
              "      <td>14.0</td>\n",
              "      <td>8</td>\n",
              "      <td>440</td>\n",
              "      <td>215</td>\n",
              "      <td>4312</td>\n",
              "      <td>9</td>\n",
              "      <td>1971</td>\n",
              "      <td>US.</td>\n",
              "    </tr>\n",
              "    <tr>\n",
              "      <th>8</th>\n",
              "      <td>25.4</td>\n",
              "      <td>5</td>\n",
              "      <td>183</td>\n",
              "      <td>77</td>\n",
              "      <td>3530</td>\n",
              "      <td>20</td>\n",
              "      <td>1980</td>\n",
              "      <td>Europe.</td>\n",
              "    </tr>\n",
              "    <tr>\n",
              "      <th>9</th>\n",
              "      <td>37.7</td>\n",
              "      <td>4</td>\n",
              "      <td>89</td>\n",
              "      <td>62</td>\n",
              "      <td>2050</td>\n",
              "      <td>17</td>\n",
              "      <td>1982</td>\n",
              "      <td>Japan.</td>\n",
              "    </tr>\n",
              "    <tr>\n",
              "      <th>10</th>\n",
              "      <td>34.0</td>\n",
              "      <td>4</td>\n",
              "      <td>108</td>\n",
              "      <td>70</td>\n",
              "      <td>2245</td>\n",
              "      <td>17</td>\n",
              "      <td>1983</td>\n",
              "      <td>Japan.</td>\n",
              "    </tr>\n",
              "    <tr>\n",
              "      <th>11</th>\n",
              "      <td>34.3</td>\n",
              "      <td>4</td>\n",
              "      <td>97</td>\n",
              "      <td>78</td>\n",
              "      <td>2188</td>\n",
              "      <td>16</td>\n",
              "      <td>1981</td>\n",
              "      <td>Europe.</td>\n",
              "    </tr>\n",
              "    <tr>\n",
              "      <th>12</th>\n",
              "      <td>16.0</td>\n",
              "      <td>8</td>\n",
              "      <td>302</td>\n",
              "      <td>140</td>\n",
              "      <td>4141</td>\n",
              "      <td>14</td>\n",
              "      <td>1975</td>\n",
              "      <td>US.</td>\n",
              "    </tr>\n",
              "    <tr>\n",
              "      <th>13</th>\n",
              "      <td>11.0</td>\n",
              "      <td>8</td>\n",
              "      <td>350</td>\n",
              "      <td>180</td>\n",
              "      <td>3664</td>\n",
              "      <td>11</td>\n",
              "      <td>1974</td>\n",
              "      <td>US.</td>\n",
              "    </tr>\n",
              "    <tr>\n",
              "      <th>14</th>\n",
              "      <td>19.1</td>\n",
              "      <td>6</td>\n",
              "      <td>225</td>\n",
              "      <td>90</td>\n",
              "      <td></td>\n",
              "      <td>19</td>\n",
              "      <td>1981</td>\n",
              "      <td>US.</td>\n",
              "    </tr>\n",
              "    <tr>\n",
              "      <th>15</th>\n",
              "      <td>16.9</td>\n",
              "      <td>8</td>\n",
              "      <td>350</td>\n",
              "      <td>155</td>\n",
              "      <td>4360</td>\n",
              "      <td>15</td>\n",
              "      <td>1980</td>\n",
              "      <td>US.</td>\n",
              "    </tr>\n",
              "    <tr>\n",
              "      <th>16</th>\n",
              "      <td>31.8</td>\n",
              "      <td>4</td>\n",
              "      <td>85</td>\n",
              "      <td>65</td>\n",
              "      <td>2020</td>\n",
              "      <td>19</td>\n",
              "      <td>1980</td>\n",
              "      <td>Japan.</td>\n",
              "    </tr>\n",
              "    <tr>\n",
              "      <th>17</th>\n",
              "      <td>16.0</td>\n",
              "      <td>8</td>\n",
              "      <td>304</td>\n",
              "      <td>150</td>\n",
              "      <td>3433</td>\n",
              "      <td>12</td>\n",
              "      <td>1971</td>\n",
              "      <td>US.</td>\n",
              "    </tr>\n",
              "    <tr>\n",
              "      <th>18</th>\n",
              "      <td>24.0</td>\n",
              "      <td>4</td>\n",
              "      <td>113</td>\n",
              "      <td>95</td>\n",
              "      <td>2278</td>\n",
              "      <td>16</td>\n",
              "      <td>1973</td>\n",
              "      <td>Japan.</td>\n",
              "    </tr>\n",
              "    <tr>\n",
              "      <th>19</th>\n",
              "      <td>24.0</td>\n",
              "      <td>4</td>\n",
              "      <td>107</td>\n",
              "      <td>90</td>\n",
              "      <td>2430</td>\n",
              "      <td>15</td>\n",
              "      <td>1971</td>\n",
              "      <td>Europe.</td>\n",
              "    </tr>\n",
              "    <tr>\n",
              "      <th>20</th>\n",
              "      <td>37.2</td>\n",
              "      <td>4</td>\n",
              "      <td>86</td>\n",
              "      <td>65</td>\n",
              "      <td>2019</td>\n",
              "      <td>16</td>\n",
              "      <td>1981</td>\n",
              "      <td>Japan.</td>\n",
              "    </tr>\n",
              "    <tr>\n",
              "      <th>21</th>\n",
              "      <td>21.5</td>\n",
              "      <td>4</td>\n",
              "      <td>121</td>\n",
              "      <td>110</td>\n",
              "      <td>2600</td>\n",
              "      <td>13</td>\n",
              "      <td>1978</td>\n",
              "      <td>Europe.</td>\n",
              "    </tr>\n",
              "    <tr>\n",
              "      <th>22</th>\n",
              "      <td>24.0</td>\n",
              "      <td>6</td>\n",
              "      <td>200</td>\n",
              "      <td>81</td>\n",
              "      <td>3012</td>\n",
              "      <td>18</td>\n",
              "      <td>1977</td>\n",
              "      <td>US.</td>\n",
              "    </tr>\n",
              "    <tr>\n",
              "      <th>23</th>\n",
              "      <td>15.5</td>\n",
              "      <td>8</td>\n",
              "      <td>351</td>\n",
              "      <td>142</td>\n",
              "      <td>4054</td>\n",
              "      <td>14</td>\n",
              "      <td>1980</td>\n",
              "      <td>US.</td>\n",
              "    </tr>\n",
              "    <tr>\n",
              "      <th>24</th>\n",
              "      <td>38.1</td>\n",
              "      <td>4</td>\n",
              "      <td>89</td>\n",
              "      <td>60</td>\n",
              "      <td>1968</td>\n",
              "      <td>19</td>\n",
              "      <td>1981</td>\n",
              "      <td>Japan.</td>\n",
              "    </tr>\n",
              "    <tr>\n",
              "      <th>25</th>\n",
              "      <td>33.0</td>\n",
              "      <td>4</td>\n",
              "      <td>91</td>\n",
              "      <td>53</td>\n",
              "      <td>1795</td>\n",
              "      <td>17</td>\n",
              "      <td>1977</td>\n",
              "      <td>Japan.</td>\n",
              "    </tr>\n",
              "    <tr>\n",
              "      <th>26</th>\n",
              "      <td>31.0</td>\n",
              "      <td>4</td>\n",
              "      <td>71</td>\n",
              "      <td>65</td>\n",
              "      <td>1773</td>\n",
              "      <td>19</td>\n",
              "      <td>1972</td>\n",
              "      <td>Japan.</td>\n",
              "    </tr>\n",
              "    <tr>\n",
              "      <th>27</th>\n",
              "      <td>14.0</td>\n",
              "      <td>8</td>\n",
              "      <td>351</td>\n",
              "      <td>148</td>\n",
              "      <td>4657</td>\n",
              "      <td>14</td>\n",
              "      <td>1976</td>\n",
              "      <td>US.</td>\n",
              "    </tr>\n",
              "    <tr>\n",
              "      <th>28</th>\n",
              "      <td>18.0</td>\n",
              "      <td>6</td>\n",
              "      <td>250</td>\n",
              "      <td>78</td>\n",
              "      <td>3574</td>\n",
              "      <td>21</td>\n",
              "      <td>1977</td>\n",
              "      <td>US.</td>\n",
              "    </tr>\n",
              "    <tr>\n",
              "      <th>29</th>\n",
              "      <td>29.9</td>\n",
              "      <td>4</td>\n",
              "      <td>98</td>\n",
              "      <td>65</td>\n",
              "      <td>2380</td>\n",
              "      <td>21</td>\n",
              "      <td>1982</td>\n",
              "      <td>US.</td>\n",
              "    </tr>\n",
              "    <tr>\n",
              "      <th>30</th>\n",
              "      <td>27.0</td>\n",
              "      <td>4</td>\n",
              "      <td>97</td>\n",
              "      <td>88</td>\n",
              "      <td>2130</td>\n",
              "      <td>15</td>\n",
              "      <td>1971</td>\n",
              "      <td>Japan.</td>\n",
              "    </tr>\n",
              "    <tr>\n",
              "      <th>31</th>\n",
              "      <td>16.0</td>\n",
              "      <td>6</td>\n",
              "      <td>250</td>\n",
              "      <td>100</td>\n",
              "      <td>3278</td>\n",
              "      <td>18</td>\n",
              "      <td>1974</td>\n",
              "      <td>US.</td>\n",
              "    </tr>\n",
              "    <tr>\n",
              "      <th>32</th>\n",
              "      <td>23.0</td>\n",
              "      <td>4</td>\n",
              "      <td>120</td>\n",
              "      <td>97</td>\n",
              "      <td>2506</td>\n",
              "      <td>15</td>\n",
              "      <td>1973</td>\n",
              "      <td>Japan.</td>\n",
              "    </tr>\n",
              "    <tr>\n",
              "      <th>33</th>\n",
              "      <td>21.0</td>\n",
              "      <td>6</td>\n",
              "      <td>199</td>\n",
              "      <td>90</td>\n",
              "      <td></td>\n",
              "      <td>15</td>\n",
              "      <td>1971</td>\n",
              "      <td>US.</td>\n",
              "    </tr>\n",
              "    <tr>\n",
              "      <th>34</th>\n",
              "      <td>30.0</td>\n",
              "      <td>4</td>\n",
              "      <td>97</td>\n",
              "      <td>67</td>\n",
              "      <td>1985</td>\n",
              "      <td>16</td>\n",
              "      <td>1978</td>\n",
              "      <td>Japan.</td>\n",
              "    </tr>\n",
              "    <tr>\n",
              "      <th>35</th>\n",
              "      <td>22.4</td>\n",
              "      <td>6</td>\n",
              "      <td>231</td>\n",
              "      <td>110</td>\n",
              "      <td>3415</td>\n",
              "      <td>16</td>\n",
              "      <td>1982</td>\n",
              "      <td>US.</td>\n",
              "    </tr>\n",
              "    <tr>\n",
              "      <th>36</th>\n",
              "      <td>26.0</td>\n",
              "      <td>4</td>\n",
              "      <td>97</td>\n",
              "      <td>46</td>\n",
              "      <td>1835</td>\n",
              "      <td>21</td>\n",
              "      <td>1971</td>\n",
              "      <td>Europe.</td>\n",
              "    </tr>\n",
              "    <tr>\n",
              "      <th>37</th>\n",
              "      <td>21.5</td>\n",
              "      <td>3</td>\n",
              "      <td>80</td>\n",
              "      <td>110</td>\n",
              "      <td>2720</td>\n",
              "      <td>14</td>\n",
              "      <td>1978</td>\n",
              "      <td>Japan.</td>\n",
              "    </tr>\n",
              "    <tr>\n",
              "      <th>38</th>\n",
              "      <td>16.5</td>\n",
              "      <td>8</td>\n",
              "      <td>351</td>\n",
              "      <td>138</td>\n",
              "      <td>3955</td>\n",
              "      <td>13</td>\n",
              "      <td>1980</td>\n",
              "      <td>US.</td>\n",
              "    </tr>\n",
              "    <tr>\n",
              "      <th>39</th>\n",
              "      <td>20.2</td>\n",
              "      <td>6</td>\n",
              "      <td>232</td>\n",
              "      <td>90</td>\n",
              "      <td>3265</td>\n",
              "      <td>18</td>\n",
              "      <td>1980</td>\n",
              "      <td>US.</td>\n",
              "    </tr>\n",
              "    <tr>\n",
              "      <th>40</th>\n",
              "      <td>16.0</td>\n",
              "      <td>6</td>\n",
              "      <td>278</td>\n",
              "      <td>105</td>\n",
              "      <td>3897</td>\n",
              "      <td>19</td>\n",
              "      <td>1976</td>\n",
              "      <td>US.</td>\n",
              "    </tr>\n",
              "    <tr>\n",
              "      <th>41</th>\n",
              "      <td>14.0</td>\n",
              "      <td>8</td>\n",
              "      <td>302</td>\n",
              "      <td>140</td>\n",
              "      <td>4638</td>\n",
              "      <td>16</td>\n",
              "      <td>1975</td>\n",
              "      <td>US.</td>\n",
              "    </tr>\n",
              "    <tr>\n",
              "      <th>42</th>\n",
              "      <td>18.5</td>\n",
              "      <td>6</td>\n",
              "      <td>250</td>\n",
              "      <td>110</td>\n",
              "      <td>3645</td>\n",
              "      <td>16</td>\n",
              "      <td>1977</td>\n",
              "      <td>US.</td>\n",
              "    </tr>\n",
              "    <tr>\n",
              "      <th>43</th>\n",
              "      <td>17.5</td>\n",
              "      <td>6</td>\n",
              "      <td>250</td>\n",
              "      <td>110</td>\n",
              "      <td>3520</td>\n",
              "      <td>16</td>\n",
              "      <td>1978</td>\n",
              "      <td>US.</td>\n",
              "    </tr>\n",
              "    <tr>\n",
              "      <th>44</th>\n",
              "      <td>14.0</td>\n",
              "      <td>8</td>\n",
              "      <td>455</td>\n",
              "      <td>225</td>\n",
              "      <td>3086</td>\n",
              "      <td>10</td>\n",
              "      <td>1971</td>\n",
              "      <td>US.</td>\n",
              "    </tr>\n",
              "    <tr>\n",
              "      <th>45</th>\n",
              "      <td>31.6</td>\n",
              "      <td>4</td>\n",
              "      <td>120</td>\n",
              "      <td>74</td>\n",
              "      <td>2635</td>\n",
              "      <td>18</td>\n",
              "      <td>1982</td>\n",
              "      <td>Japan.</td>\n",
              "    </tr>\n",
              "    <tr>\n",
              "      <th>46</th>\n",
              "      <td>13.0</td>\n",
              "      <td>8</td>\n",
              "      <td>318</td>\n",
              "      <td>150</td>\n",
              "      <td>3755</td>\n",
              "      <td>14</td>\n",
              "      <td>1977</td>\n",
              "      <td>US.</td>\n",
              "    </tr>\n",
              "    <tr>\n",
              "      <th>47</th>\n",
              "      <td>22.0</td>\n",
              "      <td>4</td>\n",
              "      <td>122</td>\n",
              "      <td>86</td>\n",
              "      <td>2395</td>\n",
              "      <td>16</td>\n",
              "      <td>1973</td>\n",
              "      <td>US.</td>\n",
              "    </tr>\n",
              "    <tr>\n",
              "      <th>48</th>\n",
              "      <td>29.0</td>\n",
              "      <td>4</td>\n",
              "      <td>97</td>\n",
              "      <td>78</td>\n",
              "      <td>1940</td>\n",
              "      <td>15</td>\n",
              "      <td>1978</td>\n",
              "      <td>Europe.</td>\n",
              "    </tr>\n",
              "    <tr>\n",
              "      <th>49</th>\n",
              "      <td>20.2</td>\n",
              "      <td>6</td>\n",
              "      <td>200</td>\n",
              "      <td>88</td>\n",
              "      <td>3060</td>\n",
              "      <td>17</td>\n",
              "      <td>1982</td>\n",
              "      <td>US.</td>\n",
              "    </tr>\n",
              "  </tbody>\n",
              "</table>\n",
              "</div>\n",
              "      <button class=\"colab-df-convert\" onclick=\"convertToInteractive('df-c40cee83-512b-412f-bb5e-4ee5caf24a88')\"\n",
              "              title=\"Convert this dataframe to an interactive table.\"\n",
              "              style=\"display:none;\">\n",
              "        \n",
              "  <svg xmlns=\"http://www.w3.org/2000/svg\" height=\"24px\"viewBox=\"0 0 24 24\"\n",
              "       width=\"24px\">\n",
              "    <path d=\"M0 0h24v24H0V0z\" fill=\"none\"/>\n",
              "    <path d=\"M18.56 5.44l.94 2.06.94-2.06 2.06-.94-2.06-.94-.94-2.06-.94 2.06-2.06.94zm-11 1L8.5 8.5l.94-2.06 2.06-.94-2.06-.94L8.5 2.5l-.94 2.06-2.06.94zm10 10l.94 2.06.94-2.06 2.06-.94-2.06-.94-.94-2.06-.94 2.06-2.06.94z\"/><path d=\"M17.41 7.96l-1.37-1.37c-.4-.4-.92-.59-1.43-.59-.52 0-1.04.2-1.43.59L10.3 9.45l-7.72 7.72c-.78.78-.78 2.05 0 2.83L4 21.41c.39.39.9.59 1.41.59.51 0 1.02-.2 1.41-.59l7.78-7.78 2.81-2.81c.8-.78.8-2.07 0-2.86zM5.41 20L4 18.59l7.72-7.72 1.47 1.35L5.41 20z\"/>\n",
              "  </svg>\n",
              "      </button>\n",
              "      \n",
              "  <style>\n",
              "    .colab-df-container {\n",
              "      display:flex;\n",
              "      flex-wrap:wrap;\n",
              "      gap: 12px;\n",
              "    }\n",
              "\n",
              "    .colab-df-convert {\n",
              "      background-color: #E8F0FE;\n",
              "      border: none;\n",
              "      border-radius: 50%;\n",
              "      cursor: pointer;\n",
              "      display: none;\n",
              "      fill: #1967D2;\n",
              "      height: 32px;\n",
              "      padding: 0 0 0 0;\n",
              "      width: 32px;\n",
              "    }\n",
              "\n",
              "    .colab-df-convert:hover {\n",
              "      background-color: #E2EBFA;\n",
              "      box-shadow: 0px 1px 2px rgba(60, 64, 67, 0.3), 0px 1px 3px 1px rgba(60, 64, 67, 0.15);\n",
              "      fill: #174EA6;\n",
              "    }\n",
              "\n",
              "    [theme=dark] .colab-df-convert {\n",
              "      background-color: #3B4455;\n",
              "      fill: #D2E3FC;\n",
              "    }\n",
              "\n",
              "    [theme=dark] .colab-df-convert:hover {\n",
              "      background-color: #434B5C;\n",
              "      box-shadow: 0px 1px 3px 1px rgba(0, 0, 0, 0.15);\n",
              "      filter: drop-shadow(0px 1px 2px rgba(0, 0, 0, 0.3));\n",
              "      fill: #FFFFFF;\n",
              "    }\n",
              "  </style>\n",
              "\n",
              "      <script>\n",
              "        const buttonEl =\n",
              "          document.querySelector('#df-c40cee83-512b-412f-bb5e-4ee5caf24a88 button.colab-df-convert');\n",
              "        buttonEl.style.display =\n",
              "          google.colab.kernel.accessAllowed ? 'block' : 'none';\n",
              "\n",
              "        async function convertToInteractive(key) {\n",
              "          const element = document.querySelector('#df-c40cee83-512b-412f-bb5e-4ee5caf24a88');\n",
              "          const dataTable =\n",
              "            await google.colab.kernel.invokeFunction('convertToInteractive',\n",
              "                                                     [key], {});\n",
              "          if (!dataTable) return;\n",
              "\n",
              "          const docLinkHtml = 'Like what you see? Visit the ' +\n",
              "            '<a target=\"_blank\" href=https://colab.research.google.com/notebooks/data_table.ipynb>data table notebook</a>'\n",
              "            + ' to learn more about interactive tables.';\n",
              "          element.innerHTML = '';\n",
              "          dataTable['output_type'] = 'display_data';\n",
              "          await google.colab.output.renderOutput(dataTable, element);\n",
              "          const docLink = document.createElement('div');\n",
              "          docLink.innerHTML = docLinkHtml;\n",
              "          element.appendChild(docLink);\n",
              "        }\n",
              "      </script>\n",
              "    </div>\n",
              "  </div>\n",
              "  "
            ]
          },
          "metadata": {},
          "execution_count": 86
        }
      ]
    },
    {
      "cell_type": "code",
      "source": [
        "df.iloc[40,2] = '278'"
      ],
      "metadata": {
        "id": "QW42j03oRh_L"
      },
      "execution_count": null,
      "outputs": []
    },
    {
      "cell_type": "code",
      "source": [
        "df.iloc[180,2] = '450'"
      ],
      "metadata": {
        "id": "wLFGFf9caPLG"
      },
      "execution_count": null,
      "outputs": []
    },
    {
      "cell_type": "code",
      "source": [
        "df.iloc[172,4] = '3890'"
      ],
      "metadata": {
        "id": "x2hA9qKYatyN"
      },
      "execution_count": null,
      "outputs": []
    },
    {
      "cell_type": "code",
      "source": [
        "df.fillna(0)"
      ],
      "metadata": {
        "colab": {
          "base_uri": "https://localhost:8080/",
          "height": 424
        },
        "id": "J7AdBQBkZtHB",
        "outputId": "0ce8525d-2143-4e60-b61e-1809a3afcd0f"
      },
      "execution_count": null,
      "outputs": [
        {
          "output_type": "execute_result",
          "data": {
            "text/plain": [
              "      mpg   cylinders  cubicinches   hp  weightlbs   time-to-60   year  \\\n",
              "0    14.0           8          350  165       4209           12   1972   \n",
              "1    31.9           4           89   71       1925           14   1980   \n",
              "2    17.0           8          302  140       3449           11   1971   \n",
              "3    15.0           8          400  150       3761           10   1971   \n",
              "4    30.5           4           98   63       2051           17   1978   \n",
              "..    ...         ...          ...  ...        ...          ...    ...   \n",
              "256  17.0           8          305  130       3840           15   1980   \n",
              "257  36.1           4           91   60       1800           16   1979   \n",
              "258  22.0           6          232  112       2835           15   1983   \n",
              "259  18.0           6          232  100       3288           16   1972   \n",
              "260  22.0           6          250  105       3353           15   1977   \n",
              "\n",
              "        brand  \n",
              "0         US.  \n",
              "1     Europe.  \n",
              "2         US.  \n",
              "3         US.  \n",
              "4         US.  \n",
              "..        ...  \n",
              "256       US.  \n",
              "257    Japan.  \n",
              "258       US.  \n",
              "259       US.  \n",
              "260       US.  \n",
              "\n",
              "[261 rows x 8 columns]"
            ],
            "text/html": [
              "\n",
              "  <div id=\"df-9638cfd7-109c-4001-ac1d-097516b409b2\">\n",
              "    <div class=\"colab-df-container\">\n",
              "      <div>\n",
              "<style scoped>\n",
              "    .dataframe tbody tr th:only-of-type {\n",
              "        vertical-align: middle;\n",
              "    }\n",
              "\n",
              "    .dataframe tbody tr th {\n",
              "        vertical-align: top;\n",
              "    }\n",
              "\n",
              "    .dataframe thead th {\n",
              "        text-align: right;\n",
              "    }\n",
              "</style>\n",
              "<table border=\"1\" class=\"dataframe\">\n",
              "  <thead>\n",
              "    <tr style=\"text-align: right;\">\n",
              "      <th></th>\n",
              "      <th>mpg</th>\n",
              "      <th>cylinders</th>\n",
              "      <th>cubicinches</th>\n",
              "      <th>hp</th>\n",
              "      <th>weightlbs</th>\n",
              "      <th>time-to-60</th>\n",
              "      <th>year</th>\n",
              "      <th>brand</th>\n",
              "    </tr>\n",
              "  </thead>\n",
              "  <tbody>\n",
              "    <tr>\n",
              "      <th>0</th>\n",
              "      <td>14.0</td>\n",
              "      <td>8</td>\n",
              "      <td>350</td>\n",
              "      <td>165</td>\n",
              "      <td>4209</td>\n",
              "      <td>12</td>\n",
              "      <td>1972</td>\n",
              "      <td>US.</td>\n",
              "    </tr>\n",
              "    <tr>\n",
              "      <th>1</th>\n",
              "      <td>31.9</td>\n",
              "      <td>4</td>\n",
              "      <td>89</td>\n",
              "      <td>71</td>\n",
              "      <td>1925</td>\n",
              "      <td>14</td>\n",
              "      <td>1980</td>\n",
              "      <td>Europe.</td>\n",
              "    </tr>\n",
              "    <tr>\n",
              "      <th>2</th>\n",
              "      <td>17.0</td>\n",
              "      <td>8</td>\n",
              "      <td>302</td>\n",
              "      <td>140</td>\n",
              "      <td>3449</td>\n",
              "      <td>11</td>\n",
              "      <td>1971</td>\n",
              "      <td>US.</td>\n",
              "    </tr>\n",
              "    <tr>\n",
              "      <th>3</th>\n",
              "      <td>15.0</td>\n",
              "      <td>8</td>\n",
              "      <td>400</td>\n",
              "      <td>150</td>\n",
              "      <td>3761</td>\n",
              "      <td>10</td>\n",
              "      <td>1971</td>\n",
              "      <td>US.</td>\n",
              "    </tr>\n",
              "    <tr>\n",
              "      <th>4</th>\n",
              "      <td>30.5</td>\n",
              "      <td>4</td>\n",
              "      <td>98</td>\n",
              "      <td>63</td>\n",
              "      <td>2051</td>\n",
              "      <td>17</td>\n",
              "      <td>1978</td>\n",
              "      <td>US.</td>\n",
              "    </tr>\n",
              "    <tr>\n",
              "      <th>...</th>\n",
              "      <td>...</td>\n",
              "      <td>...</td>\n",
              "      <td>...</td>\n",
              "      <td>...</td>\n",
              "      <td>...</td>\n",
              "      <td>...</td>\n",
              "      <td>...</td>\n",
              "      <td>...</td>\n",
              "    </tr>\n",
              "    <tr>\n",
              "      <th>256</th>\n",
              "      <td>17.0</td>\n",
              "      <td>8</td>\n",
              "      <td>305</td>\n",
              "      <td>130</td>\n",
              "      <td>3840</td>\n",
              "      <td>15</td>\n",
              "      <td>1980</td>\n",
              "      <td>US.</td>\n",
              "    </tr>\n",
              "    <tr>\n",
              "      <th>257</th>\n",
              "      <td>36.1</td>\n",
              "      <td>4</td>\n",
              "      <td>91</td>\n",
              "      <td>60</td>\n",
              "      <td>1800</td>\n",
              "      <td>16</td>\n",
              "      <td>1979</td>\n",
              "      <td>Japan.</td>\n",
              "    </tr>\n",
              "    <tr>\n",
              "      <th>258</th>\n",
              "      <td>22.0</td>\n",
              "      <td>6</td>\n",
              "      <td>232</td>\n",
              "      <td>112</td>\n",
              "      <td>2835</td>\n",
              "      <td>15</td>\n",
              "      <td>1983</td>\n",
              "      <td>US.</td>\n",
              "    </tr>\n",
              "    <tr>\n",
              "      <th>259</th>\n",
              "      <td>18.0</td>\n",
              "      <td>6</td>\n",
              "      <td>232</td>\n",
              "      <td>100</td>\n",
              "      <td>3288</td>\n",
              "      <td>16</td>\n",
              "      <td>1972</td>\n",
              "      <td>US.</td>\n",
              "    </tr>\n",
              "    <tr>\n",
              "      <th>260</th>\n",
              "      <td>22.0</td>\n",
              "      <td>6</td>\n",
              "      <td>250</td>\n",
              "      <td>105</td>\n",
              "      <td>3353</td>\n",
              "      <td>15</td>\n",
              "      <td>1977</td>\n",
              "      <td>US.</td>\n",
              "    </tr>\n",
              "  </tbody>\n",
              "</table>\n",
              "<p>261 rows × 8 columns</p>\n",
              "</div>\n",
              "      <button class=\"colab-df-convert\" onclick=\"convertToInteractive('df-9638cfd7-109c-4001-ac1d-097516b409b2')\"\n",
              "              title=\"Convert this dataframe to an interactive table.\"\n",
              "              style=\"display:none;\">\n",
              "        \n",
              "  <svg xmlns=\"http://www.w3.org/2000/svg\" height=\"24px\"viewBox=\"0 0 24 24\"\n",
              "       width=\"24px\">\n",
              "    <path d=\"M0 0h24v24H0V0z\" fill=\"none\"/>\n",
              "    <path d=\"M18.56 5.44l.94 2.06.94-2.06 2.06-.94-2.06-.94-.94-2.06-.94 2.06-2.06.94zm-11 1L8.5 8.5l.94-2.06 2.06-.94-2.06-.94L8.5 2.5l-.94 2.06-2.06.94zm10 10l.94 2.06.94-2.06 2.06-.94-2.06-.94-.94-2.06-.94 2.06-2.06.94z\"/><path d=\"M17.41 7.96l-1.37-1.37c-.4-.4-.92-.59-1.43-.59-.52 0-1.04.2-1.43.59L10.3 9.45l-7.72 7.72c-.78.78-.78 2.05 0 2.83L4 21.41c.39.39.9.59 1.41.59.51 0 1.02-.2 1.41-.59l7.78-7.78 2.81-2.81c.8-.78.8-2.07 0-2.86zM5.41 20L4 18.59l7.72-7.72 1.47 1.35L5.41 20z\"/>\n",
              "  </svg>\n",
              "      </button>\n",
              "      \n",
              "  <style>\n",
              "    .colab-df-container {\n",
              "      display:flex;\n",
              "      flex-wrap:wrap;\n",
              "      gap: 12px;\n",
              "    }\n",
              "\n",
              "    .colab-df-convert {\n",
              "      background-color: #E8F0FE;\n",
              "      border: none;\n",
              "      border-radius: 50%;\n",
              "      cursor: pointer;\n",
              "      display: none;\n",
              "      fill: #1967D2;\n",
              "      height: 32px;\n",
              "      padding: 0 0 0 0;\n",
              "      width: 32px;\n",
              "    }\n",
              "\n",
              "    .colab-df-convert:hover {\n",
              "      background-color: #E2EBFA;\n",
              "      box-shadow: 0px 1px 2px rgba(60, 64, 67, 0.3), 0px 1px 3px 1px rgba(60, 64, 67, 0.15);\n",
              "      fill: #174EA6;\n",
              "    }\n",
              "\n",
              "    [theme=dark] .colab-df-convert {\n",
              "      background-color: #3B4455;\n",
              "      fill: #D2E3FC;\n",
              "    }\n",
              "\n",
              "    [theme=dark] .colab-df-convert:hover {\n",
              "      background-color: #434B5C;\n",
              "      box-shadow: 0px 1px 3px 1px rgba(0, 0, 0, 0.15);\n",
              "      filter: drop-shadow(0px 1px 2px rgba(0, 0, 0, 0.3));\n",
              "      fill: #FFFFFF;\n",
              "    }\n",
              "  </style>\n",
              "\n",
              "      <script>\n",
              "        const buttonEl =\n",
              "          document.querySelector('#df-9638cfd7-109c-4001-ac1d-097516b409b2 button.colab-df-convert');\n",
              "        buttonEl.style.display =\n",
              "          google.colab.kernel.accessAllowed ? 'block' : 'none';\n",
              "\n",
              "        async function convertToInteractive(key) {\n",
              "          const element = document.querySelector('#df-9638cfd7-109c-4001-ac1d-097516b409b2');\n",
              "          const dataTable =\n",
              "            await google.colab.kernel.invokeFunction('convertToInteractive',\n",
              "                                                     [key], {});\n",
              "          if (!dataTable) return;\n",
              "\n",
              "          const docLinkHtml = 'Like what you see? Visit the ' +\n",
              "            '<a target=\"_blank\" href=https://colab.research.google.com/notebooks/data_table.ipynb>data table notebook</a>'\n",
              "            + ' to learn more about interactive tables.';\n",
              "          element.innerHTML = '';\n",
              "          dataTable['output_type'] = 'display_data';\n",
              "          await google.colab.output.renderOutput(dataTable, element);\n",
              "          const docLink = document.createElement('div');\n",
              "          docLink.innerHTML = docLinkHtml;\n",
              "          element.appendChild(docLink);\n",
              "        }\n",
              "      </script>\n",
              "    </div>\n",
              "  </div>\n",
              "  "
            ]
          },
          "metadata": {},
          "execution_count": 75
        }
      ]
    },
    {
      "cell_type": "code",
      "source": [
        "df.nunique()"
      ],
      "metadata": {
        "colab": {
          "base_uri": "https://localhost:8080/"
        },
        "id": "ckYN8O7ZTRmP",
        "outputId": "6b5a58f3-8837-4516-9812-ffecbecd25a6"
      },
      "execution_count": null,
      "outputs": [
        {
          "output_type": "execute_result",
          "data": {
            "text/plain": [
              "mpg             103\n",
              " cylinders        5\n",
              " cubicinches     75\n",
              " hp              85\n",
              " weightlbs      240\n",
              " time-to-60      17\n",
              " year            13\n",
              " brand            3\n",
              "dtype: int64"
            ]
          },
          "metadata": {},
          "execution_count": 23
        }
      ]
    },
    {
      "cell_type": "code",
      "source": [
        "df[' cubicinches'] = pd.to_numeric(df[' cubicinches'])"
      ],
      "metadata": {
        "id": "iFIsEe8OY5y5"
      },
      "execution_count": null,
      "outputs": []
    },
    {
      "cell_type": "code",
      "source": [
        "df[' weightlbs'] = pd.to_numeric(df[' weightlbs'])"
      ],
      "metadata": {
        "id": "1ehiRLY2af3V"
      },
      "execution_count": null,
      "outputs": []
    },
    {
      "cell_type": "code",
      "source": [
        "df[' cubicinches']"
      ],
      "metadata": {
        "colab": {
          "base_uri": "https://localhost:8080/"
        },
        "id": "1PA9xTSkaYIu",
        "outputId": "57e4f7ff-df66-40db-da1f-73fd439c4d2a"
      },
      "execution_count": null,
      "outputs": [
        {
          "output_type": "execute_result",
          "data": {
            "text/plain": [
              "0      350\n",
              "1       89\n",
              "2      302\n",
              "3      400\n",
              "4       98\n",
              "      ... \n",
              "256    305\n",
              "257     91\n",
              "258    232\n",
              "259    232\n",
              "260    250\n",
              "Name:  cubicinches, Length: 261, dtype: int64"
            ]
          },
          "metadata": {},
          "execution_count": 84
        }
      ]
    },
    {
      "cell_type": "code",
      "source": [
        "X = df.iloc[:,:-1]\n",
        "y = df.iloc[:,-1]"
      ],
      "metadata": {
        "id": "2zemPFmzRjPi"
      },
      "execution_count": null,
      "outputs": []
    },
    {
      "cell_type": "code",
      "source": [
        "print(X)"
      ],
      "metadata": {
        "colab": {
          "base_uri": "https://localhost:8080/"
        },
        "id": "BaJQqDfqYYwh",
        "outputId": "d8b15f67-222a-47b2-8faa-1229bc25d081"
      },
      "execution_count": null,
      "outputs": [
        {
          "output_type": "stream",
          "name": "stdout",
          "text": [
            "      mpg   cylinders  cubicinches   hp  weightlbs   time-to-60   year\n",
            "0    14.0           8          350  165       4209           12   1972\n",
            "1    31.9           4           89   71       1925           14   1980\n",
            "2    17.0           8          302  140       3449           11   1971\n",
            "3    15.0           8          400  150       3761           10   1971\n",
            "4    30.5           4           98   63       2051           17   1978\n",
            "..    ...         ...          ...  ...        ...          ...    ...\n",
            "256  17.0           8          305  130       3840           15   1980\n",
            "257  36.1           4           91   60       1800           16   1979\n",
            "258  22.0           6          232  112       2835           15   1983\n",
            "259  18.0           6          232  100       3288           16   1972\n",
            "260  22.0           6          250  105       3353           15   1977\n",
            "\n",
            "[261 rows x 7 columns]\n"
          ]
        }
      ]
    },
    {
      "cell_type": "code",
      "source": [
        "X.iloc[:,2] = X.iloc[:,2].astype(int)"
      ],
      "metadata": {
        "colab": {
          "base_uri": "https://localhost:8080/",
          "height": 224
        },
        "id": "XgcnMBteXuvh",
        "outputId": "f0f50cfe-497d-4c5f-8ada-673848b797c7"
      },
      "execution_count": null,
      "outputs": [
        {
          "output_type": "error",
          "ename": "ValueError",
          "evalue": "ignored",
          "traceback": [
            "\u001b[0;31m---------------------------------------------------------------------------\u001b[0m",
            "\u001b[0;31mValueError\u001b[0m                                Traceback (most recent call last)",
            "\u001b[0;32m<ipython-input-59-f8715ff3ed7a>\u001b[0m in \u001b[0;36m<module>\u001b[0;34m\u001b[0m\n\u001b[0;32m----> 1\u001b[0;31m \u001b[0mX\u001b[0m\u001b[0;34m.\u001b[0m\u001b[0miloc\u001b[0m\u001b[0;34m[\u001b[0m\u001b[0;34m:\u001b[0m\u001b[0;34m,\u001b[0m\u001b[0;36m2\u001b[0m\u001b[0;34m]\u001b[0m \u001b[0;34m=\u001b[0m \u001b[0mX\u001b[0m\u001b[0;34m.\u001b[0m\u001b[0miloc\u001b[0m\u001b[0;34m[\u001b[0m\u001b[0;34m:\u001b[0m\u001b[0;34m,\u001b[0m\u001b[0;36m2\u001b[0m\u001b[0;34m]\u001b[0m\u001b[0;34m.\u001b[0m\u001b[0mastype\u001b[0m\u001b[0;34m(\u001b[0m\u001b[0mint\u001b[0m\u001b[0;34m)\u001b[0m\u001b[0;34m\u001b[0m\u001b[0;34m\u001b[0m\u001b[0m\n\u001b[0m",
            "\u001b[0;32m/usr/local/lib/python3.7/dist-packages/pandas/core/generic.py\u001b[0m in \u001b[0;36mastype\u001b[0;34m(self, dtype, copy, errors)\u001b[0m\n\u001b[1;32m   5813\u001b[0m         \u001b[0;32melse\u001b[0m\u001b[0;34m:\u001b[0m\u001b[0;34m\u001b[0m\u001b[0;34m\u001b[0m\u001b[0m\n\u001b[1;32m   5814\u001b[0m             \u001b[0;31m# else, only a single dtype is given\u001b[0m\u001b[0;34m\u001b[0m\u001b[0;34m\u001b[0m\u001b[0;34m\u001b[0m\u001b[0m\n\u001b[0;32m-> 5815\u001b[0;31m             \u001b[0mnew_data\u001b[0m \u001b[0;34m=\u001b[0m \u001b[0mself\u001b[0m\u001b[0;34m.\u001b[0m\u001b[0m_mgr\u001b[0m\u001b[0;34m.\u001b[0m\u001b[0mastype\u001b[0m\u001b[0;34m(\u001b[0m\u001b[0mdtype\u001b[0m\u001b[0;34m=\u001b[0m\u001b[0mdtype\u001b[0m\u001b[0;34m,\u001b[0m \u001b[0mcopy\u001b[0m\u001b[0;34m=\u001b[0m\u001b[0mcopy\u001b[0m\u001b[0;34m,\u001b[0m \u001b[0merrors\u001b[0m\u001b[0;34m=\u001b[0m\u001b[0merrors\u001b[0m\u001b[0;34m)\u001b[0m\u001b[0;34m\u001b[0m\u001b[0;34m\u001b[0m\u001b[0m\n\u001b[0m\u001b[1;32m   5816\u001b[0m             \u001b[0;32mreturn\u001b[0m \u001b[0mself\u001b[0m\u001b[0;34m.\u001b[0m\u001b[0m_constructor\u001b[0m\u001b[0;34m(\u001b[0m\u001b[0mnew_data\u001b[0m\u001b[0;34m)\u001b[0m\u001b[0;34m.\u001b[0m\u001b[0m__finalize__\u001b[0m\u001b[0;34m(\u001b[0m\u001b[0mself\u001b[0m\u001b[0;34m,\u001b[0m \u001b[0mmethod\u001b[0m\u001b[0;34m=\u001b[0m\u001b[0;34m\"astype\"\u001b[0m\u001b[0;34m)\u001b[0m\u001b[0;34m\u001b[0m\u001b[0;34m\u001b[0m\u001b[0m\n\u001b[1;32m   5817\u001b[0m \u001b[0;34m\u001b[0m\u001b[0m\n",
            "\u001b[0;32m/usr/local/lib/python3.7/dist-packages/pandas/core/internals/managers.py\u001b[0m in \u001b[0;36mastype\u001b[0;34m(self, dtype, copy, errors)\u001b[0m\n\u001b[1;32m    416\u001b[0m \u001b[0;34m\u001b[0m\u001b[0m\n\u001b[1;32m    417\u001b[0m     \u001b[0;32mdef\u001b[0m \u001b[0mastype\u001b[0m\u001b[0;34m(\u001b[0m\u001b[0mself\u001b[0m\u001b[0;34m:\u001b[0m \u001b[0mT\u001b[0m\u001b[0;34m,\u001b[0m \u001b[0mdtype\u001b[0m\u001b[0;34m,\u001b[0m \u001b[0mcopy\u001b[0m\u001b[0;34m:\u001b[0m \u001b[0mbool\u001b[0m \u001b[0;34m=\u001b[0m \u001b[0;32mFalse\u001b[0m\u001b[0;34m,\u001b[0m \u001b[0merrors\u001b[0m\u001b[0;34m:\u001b[0m \u001b[0mstr\u001b[0m \u001b[0;34m=\u001b[0m \u001b[0;34m\"raise\"\u001b[0m\u001b[0;34m)\u001b[0m \u001b[0;34m->\u001b[0m \u001b[0mT\u001b[0m\u001b[0;34m:\u001b[0m\u001b[0;34m\u001b[0m\u001b[0;34m\u001b[0m\u001b[0m\n\u001b[0;32m--> 418\u001b[0;31m         \u001b[0;32mreturn\u001b[0m \u001b[0mself\u001b[0m\u001b[0;34m.\u001b[0m\u001b[0mapply\u001b[0m\u001b[0;34m(\u001b[0m\u001b[0;34m\"astype\"\u001b[0m\u001b[0;34m,\u001b[0m \u001b[0mdtype\u001b[0m\u001b[0;34m=\u001b[0m\u001b[0mdtype\u001b[0m\u001b[0;34m,\u001b[0m \u001b[0mcopy\u001b[0m\u001b[0;34m=\u001b[0m\u001b[0mcopy\u001b[0m\u001b[0;34m,\u001b[0m \u001b[0merrors\u001b[0m\u001b[0;34m=\u001b[0m\u001b[0merrors\u001b[0m\u001b[0;34m)\u001b[0m\u001b[0;34m\u001b[0m\u001b[0;34m\u001b[0m\u001b[0m\n\u001b[0m\u001b[1;32m    419\u001b[0m \u001b[0;34m\u001b[0m\u001b[0m\n\u001b[1;32m    420\u001b[0m     def convert(\n",
            "\u001b[0;32m/usr/local/lib/python3.7/dist-packages/pandas/core/internals/managers.py\u001b[0m in \u001b[0;36mapply\u001b[0;34m(self, f, align_keys, ignore_failures, **kwargs)\u001b[0m\n\u001b[1;32m    325\u001b[0m                     \u001b[0mapplied\u001b[0m \u001b[0;34m=\u001b[0m \u001b[0mb\u001b[0m\u001b[0;34m.\u001b[0m\u001b[0mapply\u001b[0m\u001b[0;34m(\u001b[0m\u001b[0mf\u001b[0m\u001b[0;34m,\u001b[0m \u001b[0;34m**\u001b[0m\u001b[0mkwargs\u001b[0m\u001b[0;34m)\u001b[0m\u001b[0;34m\u001b[0m\u001b[0;34m\u001b[0m\u001b[0m\n\u001b[1;32m    326\u001b[0m                 \u001b[0;32melse\u001b[0m\u001b[0;34m:\u001b[0m\u001b[0;34m\u001b[0m\u001b[0;34m\u001b[0m\u001b[0m\n\u001b[0;32m--> 327\u001b[0;31m                     \u001b[0mapplied\u001b[0m \u001b[0;34m=\u001b[0m \u001b[0mgetattr\u001b[0m\u001b[0;34m(\u001b[0m\u001b[0mb\u001b[0m\u001b[0;34m,\u001b[0m \u001b[0mf\u001b[0m\u001b[0;34m)\u001b[0m\u001b[0;34m(\u001b[0m\u001b[0;34m**\u001b[0m\u001b[0mkwargs\u001b[0m\u001b[0;34m)\u001b[0m\u001b[0;34m\u001b[0m\u001b[0;34m\u001b[0m\u001b[0m\n\u001b[0m\u001b[1;32m    328\u001b[0m             \u001b[0;32mexcept\u001b[0m \u001b[0;34m(\u001b[0m\u001b[0mTypeError\u001b[0m\u001b[0;34m,\u001b[0m \u001b[0mNotImplementedError\u001b[0m\u001b[0;34m)\u001b[0m\u001b[0;34m:\u001b[0m\u001b[0;34m\u001b[0m\u001b[0;34m\u001b[0m\u001b[0m\n\u001b[1;32m    329\u001b[0m                 \u001b[0;32mif\u001b[0m \u001b[0;32mnot\u001b[0m \u001b[0mignore_failures\u001b[0m\u001b[0;34m:\u001b[0m\u001b[0;34m\u001b[0m\u001b[0;34m\u001b[0m\u001b[0m\n",
            "\u001b[0;32m/usr/local/lib/python3.7/dist-packages/pandas/core/internals/blocks.py\u001b[0m in \u001b[0;36mastype\u001b[0;34m(self, dtype, copy, errors)\u001b[0m\n\u001b[1;32m    589\u001b[0m         \u001b[0mvalues\u001b[0m \u001b[0;34m=\u001b[0m \u001b[0mself\u001b[0m\u001b[0;34m.\u001b[0m\u001b[0mvalues\u001b[0m\u001b[0;34m\u001b[0m\u001b[0;34m\u001b[0m\u001b[0m\n\u001b[1;32m    590\u001b[0m \u001b[0;34m\u001b[0m\u001b[0m\n\u001b[0;32m--> 591\u001b[0;31m         \u001b[0mnew_values\u001b[0m \u001b[0;34m=\u001b[0m \u001b[0mastype_array_safe\u001b[0m\u001b[0;34m(\u001b[0m\u001b[0mvalues\u001b[0m\u001b[0;34m,\u001b[0m \u001b[0mdtype\u001b[0m\u001b[0;34m,\u001b[0m \u001b[0mcopy\u001b[0m\u001b[0;34m=\u001b[0m\u001b[0mcopy\u001b[0m\u001b[0;34m,\u001b[0m \u001b[0merrors\u001b[0m\u001b[0;34m=\u001b[0m\u001b[0merrors\u001b[0m\u001b[0;34m)\u001b[0m\u001b[0;34m\u001b[0m\u001b[0;34m\u001b[0m\u001b[0m\n\u001b[0m\u001b[1;32m    592\u001b[0m \u001b[0;34m\u001b[0m\u001b[0m\n\u001b[1;32m    593\u001b[0m         \u001b[0mnew_values\u001b[0m \u001b[0;34m=\u001b[0m \u001b[0mmaybe_coerce_values\u001b[0m\u001b[0;34m(\u001b[0m\u001b[0mnew_values\u001b[0m\u001b[0;34m)\u001b[0m\u001b[0;34m\u001b[0m\u001b[0;34m\u001b[0m\u001b[0m\n",
            "\u001b[0;32m/usr/local/lib/python3.7/dist-packages/pandas/core/dtypes/cast.py\u001b[0m in \u001b[0;36mastype_array_safe\u001b[0;34m(values, dtype, copy, errors)\u001b[0m\n\u001b[1;32m   1307\u001b[0m \u001b[0;34m\u001b[0m\u001b[0m\n\u001b[1;32m   1308\u001b[0m     \u001b[0;32mtry\u001b[0m\u001b[0;34m:\u001b[0m\u001b[0;34m\u001b[0m\u001b[0;34m\u001b[0m\u001b[0m\n\u001b[0;32m-> 1309\u001b[0;31m         \u001b[0mnew_values\u001b[0m \u001b[0;34m=\u001b[0m \u001b[0mastype_array\u001b[0m\u001b[0;34m(\u001b[0m\u001b[0mvalues\u001b[0m\u001b[0;34m,\u001b[0m \u001b[0mdtype\u001b[0m\u001b[0;34m,\u001b[0m \u001b[0mcopy\u001b[0m\u001b[0;34m=\u001b[0m\u001b[0mcopy\u001b[0m\u001b[0;34m)\u001b[0m\u001b[0;34m\u001b[0m\u001b[0;34m\u001b[0m\u001b[0m\n\u001b[0m\u001b[1;32m   1310\u001b[0m     \u001b[0;32mexcept\u001b[0m \u001b[0;34m(\u001b[0m\u001b[0mValueError\u001b[0m\u001b[0;34m,\u001b[0m \u001b[0mTypeError\u001b[0m\u001b[0;34m)\u001b[0m\u001b[0;34m:\u001b[0m\u001b[0;34m\u001b[0m\u001b[0;34m\u001b[0m\u001b[0m\n\u001b[1;32m   1311\u001b[0m         \u001b[0;31m# e.g. astype_nansafe can fail on object-dtype of strings\u001b[0m\u001b[0;34m\u001b[0m\u001b[0;34m\u001b[0m\u001b[0;34m\u001b[0m\u001b[0m\n",
            "\u001b[0;32m/usr/local/lib/python3.7/dist-packages/pandas/core/dtypes/cast.py\u001b[0m in \u001b[0;36mastype_array\u001b[0;34m(values, dtype, copy)\u001b[0m\n\u001b[1;32m   1255\u001b[0m \u001b[0;34m\u001b[0m\u001b[0m\n\u001b[1;32m   1256\u001b[0m     \u001b[0;32melse\u001b[0m\u001b[0;34m:\u001b[0m\u001b[0;34m\u001b[0m\u001b[0;34m\u001b[0m\u001b[0m\n\u001b[0;32m-> 1257\u001b[0;31m         \u001b[0mvalues\u001b[0m \u001b[0;34m=\u001b[0m \u001b[0mastype_nansafe\u001b[0m\u001b[0;34m(\u001b[0m\u001b[0mvalues\u001b[0m\u001b[0;34m,\u001b[0m \u001b[0mdtype\u001b[0m\u001b[0;34m,\u001b[0m \u001b[0mcopy\u001b[0m\u001b[0;34m=\u001b[0m\u001b[0mcopy\u001b[0m\u001b[0;34m)\u001b[0m\u001b[0;34m\u001b[0m\u001b[0;34m\u001b[0m\u001b[0m\n\u001b[0m\u001b[1;32m   1258\u001b[0m \u001b[0;34m\u001b[0m\u001b[0m\n\u001b[1;32m   1259\u001b[0m     \u001b[0;31m# in pandas we don't store numpy str dtypes, so convert to object\u001b[0m\u001b[0;34m\u001b[0m\u001b[0;34m\u001b[0m\u001b[0;34m\u001b[0m\u001b[0m\n",
            "\u001b[0;32m/usr/local/lib/python3.7/dist-packages/pandas/core/dtypes/cast.py\u001b[0m in \u001b[0;36mastype_nansafe\u001b[0;34m(arr, dtype, copy, skipna)\u001b[0m\n\u001b[1;32m   1172\u001b[0m         \u001b[0;31m# work around NumPy brokenness, #1987\u001b[0m\u001b[0;34m\u001b[0m\u001b[0;34m\u001b[0m\u001b[0;34m\u001b[0m\u001b[0m\n\u001b[1;32m   1173\u001b[0m         \u001b[0;32mif\u001b[0m \u001b[0mnp\u001b[0m\u001b[0;34m.\u001b[0m\u001b[0missubdtype\u001b[0m\u001b[0;34m(\u001b[0m\u001b[0mdtype\u001b[0m\u001b[0;34m.\u001b[0m\u001b[0mtype\u001b[0m\u001b[0;34m,\u001b[0m \u001b[0mnp\u001b[0m\u001b[0;34m.\u001b[0m\u001b[0minteger\u001b[0m\u001b[0;34m)\u001b[0m\u001b[0;34m:\u001b[0m\u001b[0;34m\u001b[0m\u001b[0;34m\u001b[0m\u001b[0m\n\u001b[0;32m-> 1174\u001b[0;31m             \u001b[0;32mreturn\u001b[0m \u001b[0mlib\u001b[0m\u001b[0;34m.\u001b[0m\u001b[0mastype_intsafe\u001b[0m\u001b[0;34m(\u001b[0m\u001b[0marr\u001b[0m\u001b[0;34m,\u001b[0m \u001b[0mdtype\u001b[0m\u001b[0;34m)\u001b[0m\u001b[0;34m\u001b[0m\u001b[0;34m\u001b[0m\u001b[0m\n\u001b[0m\u001b[1;32m   1175\u001b[0m \u001b[0;34m\u001b[0m\u001b[0m\n\u001b[1;32m   1176\u001b[0m         \u001b[0;31m# if we have a datetime/timedelta array of objects\u001b[0m\u001b[0;34m\u001b[0m\u001b[0;34m\u001b[0m\u001b[0;34m\u001b[0m\u001b[0m\n",
            "\u001b[0;32m/usr/local/lib/python3.7/dist-packages/pandas/_libs/lib.pyx\u001b[0m in \u001b[0;36mpandas._libs.lib.astype_intsafe\u001b[0;34m()\u001b[0m\n",
            "\u001b[0;31mValueError\u001b[0m: invalid literal for int() with base 10: ' '"
          ]
        }
      ]
    },
    {
      "cell_type": "code",
      "source": [
        "c = pd.to_numeric(X[' cubicinches'']])"
      ],
      "metadata": {
        "colab": {
          "base_uri": "https://localhost:8080/",
          "height": 293
        },
        "id": "Q6yu8_C3XOPq",
        "outputId": "8654b549-e23d-4016-952e-d2f98d9ce31d"
      },
      "execution_count": null,
      "outputs": [
        {
          "output_type": "error",
          "ename": "ValueError",
          "evalue": "ignored",
          "traceback": [
            "\u001b[0;31m---------------------------------------------------------------------------\u001b[0m",
            "\u001b[0;31mValueError\u001b[0m                                Traceback (most recent call last)",
            "\u001b[0;32m/usr/local/lib/python3.7/dist-packages/pandas/_libs/lib.pyx\u001b[0m in \u001b[0;36mpandas._libs.lib.maybe_convert_numeric\u001b[0;34m()\u001b[0m\n",
            "\u001b[0;31mValueError\u001b[0m: Unable to parse string \" \"",
            "\nDuring handling of the above exception, another exception occurred:\n",
            "\u001b[0;31mValueError\u001b[0m                                Traceback (most recent call last)",
            "\u001b[0;32m<ipython-input-51-6e5e1bc9ec48>\u001b[0m in \u001b[0;36m<module>\u001b[0;34m\u001b[0m\n\u001b[0;32m----> 1\u001b[0;31m \u001b[0mc\u001b[0m \u001b[0;34m=\u001b[0m \u001b[0mpd\u001b[0m\u001b[0;34m.\u001b[0m\u001b[0mto_numeric\u001b[0m\u001b[0;34m(\u001b[0m\u001b[0mX\u001b[0m\u001b[0;34m.\u001b[0m\u001b[0miloc\u001b[0m\u001b[0;34m[\u001b[0m\u001b[0;34m:\u001b[0m\u001b[0;34m,\u001b[0m\u001b[0;36m2\u001b[0m\u001b[0;34m]\u001b[0m\u001b[0;34m)\u001b[0m\u001b[0;34m\u001b[0m\u001b[0;34m\u001b[0m\u001b[0m\n\u001b[0m",
            "\u001b[0;32m/usr/local/lib/python3.7/dist-packages/pandas/core/tools/numeric.py\u001b[0m in \u001b[0;36mto_numeric\u001b[0;34m(arg, errors, downcast)\u001b[0m\n\u001b[1;32m    182\u001b[0m         \u001b[0;32mtry\u001b[0m\u001b[0;34m:\u001b[0m\u001b[0;34m\u001b[0m\u001b[0;34m\u001b[0m\u001b[0m\n\u001b[1;32m    183\u001b[0m             values, _ = lib.maybe_convert_numeric(\n\u001b[0;32m--> 184\u001b[0;31m                 \u001b[0mvalues\u001b[0m\u001b[0;34m,\u001b[0m \u001b[0mset\u001b[0m\u001b[0;34m(\u001b[0m\u001b[0;34m)\u001b[0m\u001b[0;34m,\u001b[0m \u001b[0mcoerce_numeric\u001b[0m\u001b[0;34m=\u001b[0m\u001b[0mcoerce_numeric\u001b[0m\u001b[0;34m\u001b[0m\u001b[0;34m\u001b[0m\u001b[0m\n\u001b[0m\u001b[1;32m    185\u001b[0m             )\n\u001b[1;32m    186\u001b[0m         \u001b[0;32mexcept\u001b[0m \u001b[0;34m(\u001b[0m\u001b[0mValueError\u001b[0m\u001b[0;34m,\u001b[0m \u001b[0mTypeError\u001b[0m\u001b[0;34m)\u001b[0m\u001b[0;34m:\u001b[0m\u001b[0;34m\u001b[0m\u001b[0;34m\u001b[0m\u001b[0m\n",
            "\u001b[0;32m/usr/local/lib/python3.7/dist-packages/pandas/_libs/lib.pyx\u001b[0m in \u001b[0;36mpandas._libs.lib.maybe_convert_numeric\u001b[0;34m()\u001b[0m\n",
            "\u001b[0;31mValueError\u001b[0m: Unable to parse string \" \" at position 40"
          ]
        }
      ]
    },
    {
      "cell_type": "code",
      "source": [
        "print(X)"
      ],
      "metadata": {
        "colab": {
          "base_uri": "https://localhost:8080/"
        },
        "id": "C2vf6jEWRqIi",
        "outputId": "a29ef3d0-53c4-4404-f755-4992623c4046"
      },
      "execution_count": null,
      "outputs": [
        {
          "output_type": "stream",
          "name": "stdout",
          "text": [
            "      mpg   cylinders  cubicinches   hp  weightlbs   time-to-60   year\n",
            "0    14.0           8          350  165       4209           12   1972\n",
            "1    31.9           4           89   71       1925           14   1980\n",
            "2    17.0           8          302  140       3449           11   1971\n",
            "3    15.0           8          400  150       3761           10   1971\n",
            "4    30.5           4           98   63       2051           17   1978\n",
            "..    ...         ...          ...  ...        ...          ...    ...\n",
            "256  17.0           8          305  130       3840           15   1980\n",
            "257  36.1           4           91   60       1800           16   1979\n",
            "258  22.0           6          232  112       2835           15   1983\n",
            "259  18.0           6          232  100       3288           16   1972\n",
            "260  22.0           6          250  105       3353           15   1977\n",
            "\n",
            "[261 rows x 7 columns]\n"
          ]
        }
      ]
    },
    {
      "cell_type": "code",
      "source": [
        "print(y)"
      ],
      "metadata": {
        "colab": {
          "base_uri": "https://localhost:8080/"
        },
        "id": "HK2R_L-0RwpS",
        "outputId": "0d8b4dc6-4607-4e51-c9b9-b39282047ec7"
      },
      "execution_count": null,
      "outputs": [
        {
          "output_type": "stream",
          "name": "stdout",
          "text": [
            "0           US.\n",
            "1       Europe.\n",
            "2           US.\n",
            "3           US.\n",
            "4           US.\n",
            "         ...   \n",
            "256         US.\n",
            "257      Japan.\n",
            "258         US.\n",
            "259         US.\n",
            "260         US.\n",
            "Name:  brand, Length: 261, dtype: object\n"
          ]
        }
      ]
    },
    {
      "cell_type": "code",
      "source": [
        "X_train,X_test,Y_train,Y_test = train_test_split(X,y,test_size=0.20,random_state=0)"
      ],
      "metadata": {
        "id": "Q7B8f3N-SUQ8"
      },
      "execution_count": null,
      "outputs": []
    },
    {
      "cell_type": "code",
      "source": [
        "scaler = StandardScaler()"
      ],
      "metadata": {
        "id": "r2_Q7zGjRyBa"
      },
      "execution_count": null,
      "outputs": []
    },
    {
      "cell_type": "code",
      "source": [
        "\n",
        "X_train.iloc[:,2]"
      ],
      "metadata": {
        "colab": {
          "base_uri": "https://localhost:8080/"
        },
        "id": "0bDwCmiCVmrg",
        "outputId": "9139cc59-3c24-4ef6-92fe-38c6322b1231"
      },
      "execution_count": null,
      "outputs": [
        {
          "output_type": "execute_result",
          "data": {
            "text/plain": [
              "array(['121', '98', '97', '156', '307', '86', '88', '350', '113', '351',\n",
              "       '318', '302', '120', '199', '171', '130', '305', '250', '85',\n",
              "       '400', '262', '360', '151', '108', '91', '340', '71', '83', '163',\n",
              "       '140', ' ', '89', '232', '112', '107', '168', '141', '110', '225',\n",
              "       '76', '440', '390', '135', '231', '200', '72', '81', '146', '116',\n",
              "       '79', '454', '90', '119', '429', '105', '101', '455', '304', '114',\n",
              "       '198', '134', '260', '144', '173', '96', '122', '383', '68'],\n",
              "      dtype=object)"
            ]
          },
          "metadata": {},
          "execution_count": 44
        }
      ]
    },
    {
      "cell_type": "code",
      "source": [
        "X_train.iloc[:,4].unique()"
      ],
      "metadata": {
        "colab": {
          "base_uri": "https://localhost:8080/"
        },
        "id": "Fxqu88sgW8Py",
        "outputId": "40ceb3d5-705f-45bc-c0ac-484a97d01a4f"
      },
      "execution_count": null,
      "outputs": [
        {
          "output_type": "execute_result",
          "data": {
            "text/plain": [
              "array(['2950', '2219', '2130', '2620', '3504', '2110', '2065', '4100',\n",
              "       '2278', '4129', '4360', '4080', '4042', '2957', '3940', '2671',\n",
              "       ' ', '2807', '2984', '3150', '3840', '4295', '3139', '2020',\n",
              "       '4906', '3015', '4654', '2135', '3302', '2051', '2670', '2379',\n",
              "       '1965', '3609', '1950', '1773', '2003', '3410', '2592', '3897',\n",
              "       '3664', '2542', '3761', '2933', '1968', '4498', '2945', '2930',\n",
              "       '2575', '4190', '2430', '4077', '2979', '4380', '2900', '4325',\n",
              "       '3190', '3449', '3570', '2265', '1955', '2774', '2245', '4215',\n",
              "       '2395', '2672', '4638', '4657', '4464', '4096', '2019', '3353',\n",
              "       '3755', '4385', '2745', '2910', '3003', '3021', '2300', '2634',\n",
              "       '2290', '3520', '2401', '3205', '1649', '4335', '4735', '3830',\n",
              "       '3850', '3329', '2464', '2525', '1795', '4209', '2255', '3907',\n",
              "       '3880', '3060', '1940', '1613', '2835', '2171', '4054', '3121',\n",
              "       '1760', '4997', '2678', '2815', '3288', '4363', '1825', '2220',\n",
              "       '1963', '4354', '2490', '4457', '2795', '1937', '3820', '1875',\n",
              "       '2188', '4341', '2126', '3415', '2075', '2125', '3525', '1925',\n",
              "       '2202', '2587', '3459', '3645', '2635', '4951', '4615', '3433',\n",
              "       '3955', '3672', '2158', '2254', '1945', '2582', '1985', '3574',\n",
              "       '3436', '3630', '2904', '2560', '3420', '3278', '3233', '2230',\n",
              "       '3070', '2625', '2120', '2506', '2585', '2665', '2595', '2735',\n",
              "       '2380', '3735', '3781', '3425', '1800', '2189', '2350', '4098',\n",
              "       '3785', '3693', '3988', '2288', '2515', '3365', '4952', '3399',\n",
              "       '2226', '2155', '3265', '3563', '4082', '2700', '1975', '3102',\n",
              "       '3465', '1835', '4220', '2600', '3445', '2050', '2200', '2144',\n",
              "       '2660', '4422', '3039'], dtype=object)"
            ]
          },
          "metadata": {},
          "execution_count": 46
        }
      ]
    },
    {
      "cell_type": "code",
      "source": [
        "X_train.iloc[:,5].unique()"
      ],
      "metadata": {
        "colab": {
          "base_uri": "https://localhost:8080/"
        },
        "id": "EZktNHFEXDiB",
        "outputId": "15d1fc46-7bbf-4224-9579-4e70307f6de2"
      },
      "execution_count": null,
      "outputs": [
        {
          "output_type": "execute_result",
          "data": {
            "text/plain": [
              "array([20, 17, 25, 14, 12, 18, 15, 13, 16, 19,  8, 21, 11, 10,  9, 24, 22])"
            ]
          },
          "metadata": {},
          "execution_count": 47
        }
      ]
    },
    {
      "cell_type": "code",
      "source": [
        "pd.to_numeric"
      ],
      "metadata": {
        "id": "WV7efEQ3Wycb"
      },
      "execution_count": null,
      "outputs": []
    },
    {
      "cell_type": "code",
      "source": [
        "X_train = scaler.fit_transform(X_train)"
      ],
      "metadata": {
        "id": "8ce_evRNSLZc"
      },
      "execution_count": null,
      "outputs": []
    },
    {
      "cell_type": "code",
      "source": [
        "X_train"
      ],
      "metadata": {
        "colab": {
          "base_uri": "https://localhost:8080/"
        },
        "id": "PtXYCfctcByF",
        "outputId": "60e9fb5d-6975-44e4-de21-92a0847e8d90"
      },
      "execution_count": null,
      "outputs": [
        {
          "output_type": "execute_result",
          "data": {
            "text/plain": [
              "array([[ 1.74075491, -0.3606801 , -0.75350118, ..., -0.0786367 ,\n",
              "         1.58868083,  1.17883861],\n",
              "       [ 0.77778411, -0.94224181, -0.96810793, ..., -0.93072861,\n",
              "         0.53181853, -0.47047819],\n",
              "       [ 2.72975195, -0.94224181, -0.97743866, ..., -1.03447167,\n",
              "         3.350118  ,  1.72861088],\n",
              "       ...,\n",
              "       [-0.26326541,  0.22088161,  0.27287895, ...,  0.02510636,\n",
              "        -0.17275634, -0.19559206],\n",
              "       [-0.13313422, -0.94224181, -0.74417045, ..., -0.72557379,\n",
              "         0.1795311 , -1.02025046],\n",
              "       [ 0.77778411, -0.94224181, -1.24802979, ...,  1.01707655,\n",
              "         1.58868083, -0.74536432]])"
            ]
          },
          "metadata": {},
          "execution_count": 115
        }
      ]
    },
    {
      "cell_type": "code",
      "source": [
        "print(X_test)"
      ],
      "metadata": {
        "colab": {
          "base_uri": "https://localhost:8080/"
        },
        "id": "oAIrzoJ_bdIr",
        "outputId": "34c01c1b-73e9-4675-dfc9-1097001c2885"
      },
      "execution_count": null,
      "outputs": [
        {
          "output_type": "stream",
          "name": "stdout",
          "text": [
            "      mpg   cylinders   cubicinches   hp   weightlbs   time-to-60   year\n",
            "166  16.0           6           225  105        3439           16   1972\n",
            "106  43.4           4            90   48        2335           24   1981\n",
            "239  23.0           4           122   86        2220           14   1972\n",
            "76   22.5           6           232   90        3085           18   1977\n",
            "220  17.5           6           258   95        3193           18   1977\n",
            "171  20.3           5           131  103        2830           16   1979\n",
            "8    25.4           5           183   77        3530           20   1980\n",
            "71   27.0           4           112   88        2640           19   1983\n",
            "37   21.5           3            80  110        2720           14   1978\n",
            "153  15.0           6           250   72        3158           20   1976\n",
            "179  31.5           4            98   68        2045           19   1978\n",
            "55   16.0           8           400  230        4278           10   1974\n",
            "213  30.0           4            79   70        2074           20   1972\n",
            "110  20.0           4            97   88        2279           19   1974\n",
            "152  14.0           8           455  225        4425           10   1971\n",
            "45   31.6           4           120   74        2635           18   1982\n",
            "237  20.2           6           200   85        2965           16   1979\n",
            "255  24.0           4           113   95        2372           15   1971\n",
            "137  13.0           8           302  129        3169           12   1976\n",
            "144  19.2           8           267  125        3605           15   1980\n",
            "212  39.1           4            79   58        1755           17   1982\n",
            "7    14.0           8           440  215        4312            9   1971\n",
            "59   13.0           8           360  175        3821           11   1974\n",
            "254  23.5           6           173  110        2725           13   1982\n",
            "200  26.0           4           116   75        2246           14   1975\n",
            "156  18.0           3            70   90        2124           14   1974\n",
            "83   23.0           4           115   95        2694           15   1976\n",
            "229  27.0           4           140   86        2790           16   1983\n",
            "73   24.0           4           119   97        2545           17   1976\n",
            "240  13.0           8           350  145        4055           12   1977\n",
            "89   31.0           4           119   82        2720           19   1983\n",
            "90   34.1           4            86   65        1975           15   1980\n",
            "122  16.0           8           400  170        4668           12   1976\n",
            "96   12.0           8           350  180        4499           13   1974\n",
            "201  23.0           4           140   83        2639           17   1976\n",
            "116  24.5           4           151   88        2740           16   1978\n",
            "125  26.5           4           140   72        2565           14   1977\n",
            "182  17.5           8           305  140        4215           13   1977\n",
            "215  32.9           4           119  100        2615           15   1982\n",
            "134  15.0           8           350  145        4440           14   1976\n",
            "5    23.0           8           350  125        3900           17   1980\n",
            "22   24.0           6           200   81        3012           18   1977\n",
            "181  33.8           4            97   67        2145           18   1981\n",
            "118  34.4           4            98   65        2045           16   1982\n",
            "12   16.0           8           302  140        4141           14   1975\n",
            "180  19.8           6           450   85        2990           18   1980\n",
            "146  20.6           6           225  110        3360           17   1980\n",
            "247  44.3           4            90   48        2085           22   1981\n",
            "206  40.8           4            85   65        2110           19   1981\n",
            "129  36.1           4            98   66        1800           14   1979\n",
            "64   14.0           8           318  150        4237           15   1974\n",
            "44   14.0           8           455  225        3086           10   1971\n",
            "124  27.0           4            97   60        1834           19   1972\n"
          ]
        }
      ]
    },
    {
      "cell_type": "code",
      "source": [
        "X_test = scaler.fit_transform(X_test)"
      ],
      "metadata": {
        "id": "PQfJzFW9Sp8O"
      },
      "execution_count": null,
      "outputs": []
    },
    {
      "cell_type": "code",
      "source": [
        "Y_train"
      ],
      "metadata": {
        "colab": {
          "base_uri": "https://localhost:8080/"
        },
        "id": "3Ok9JAJFbPCb",
        "outputId": "c7287716-4f6a-433d-df83-4f21459976ff"
      },
      "execution_count": null,
      "outputs": [
        {
          "output_type": "execute_result",
          "data": {
            "text/plain": [
              "252     Europe.\n",
              "74      Europe.\n",
              "235     Europe.\n",
              "190         US.\n",
              "109         US.\n",
              "         ...   \n",
              "251     Europe.\n",
              "192         US.\n",
              "117         US.\n",
              "47          US.\n",
              "172     Europe.\n",
              "Name:  brand, Length: 208, dtype: object"
            ]
          },
          "metadata": {},
          "execution_count": 106
        }
      ]
    },
    {
      "cell_type": "code",
      "source": [
        "Y_test"
      ],
      "metadata": {
        "colab": {
          "base_uri": "https://localhost:8080/"
        },
        "id": "rz8U-90hbomz",
        "outputId": "622946cb-1b47-49cf-e95f-c3a9c62c15af"
      },
      "execution_count": null,
      "outputs": [
        {
          "output_type": "execute_result",
          "data": {
            "text/plain": [
              "166         US.\n",
              "106     Europe.\n",
              "239         US.\n",
              "76          US.\n",
              "220         US.\n",
              "171     Europe.\n",
              "8       Europe.\n",
              "71          US.\n",
              "37       Japan.\n",
              "153         US.\n",
              "179      Japan.\n",
              "55          US.\n",
              "213     Europe.\n",
              "110      Japan.\n",
              "152         US.\n",
              "45       Japan.\n",
              "237         US.\n",
              "255      Japan.\n",
              "137         US.\n",
              "144         US.\n",
              "212      Japan.\n",
              "7           US.\n",
              "59          US.\n",
              "254         US.\n",
              "200     Europe.\n",
              "156      Japan.\n",
              "83      Europe.\n",
              "229         US.\n",
              "73       Japan.\n",
              "240         US.\n",
              "89          US.\n",
              "90       Japan.\n",
              "122         US.\n",
              "96          US.\n",
              "201         US.\n",
              "116         US.\n",
              "125         US.\n",
              "182         US.\n",
              "215      Japan.\n",
              "134         US.\n",
              "5           US.\n",
              "22          US.\n",
              "181      Japan.\n",
              "118         US.\n",
              "12          US.\n",
              "180         US.\n",
              "146         US.\n",
              "247     Europe.\n",
              "206      Japan.\n",
              "129         US.\n",
              "64          US.\n",
              "44          US.\n",
              "124     Europe.\n",
              "Name:  brand, dtype: object"
            ]
          },
          "metadata": {},
          "execution_count": 107
        }
      ]
    },
    {
      "cell_type": "code",
      "source": [
        "model = DecisionTreeClassifier(criterion='gini', splitter='best', max_depth=8,)"
      ],
      "metadata": {
        "id": "lV2XE74Obqbb"
      },
      "execution_count": null,
      "outputs": []
    },
    {
      "cell_type": "code",
      "source": [
        "X_test"
      ],
      "metadata": {
        "colab": {
          "base_uri": "https://localhost:8080/"
        },
        "id": "5dwq8_qLb-Wb",
        "outputId": "adfd9212-c8b9-48c8-be71-7e95d4e4a48b"
      },
      "execution_count": null,
      "outputs": [
        {
          "output_type": "execute_result",
          "data": {
            "text/plain": [
              "array([[-0.92283668,  0.29923002,  0.17731662, -0.02308014,  0.56136846,\n",
              "         0.0720568 , -1.46890642],\n",
              "       [ 2.39435001, -0.83356933, -0.95142043, -1.26817101, -0.78580533,\n",
              "         2.61806385,  1.05148337],\n",
              "       [-0.07538022, -0.83356933, -0.68386794, -0.43811043, -0.92613593,\n",
              "        -0.56444496, -1.46890642],\n",
              "       [-0.13591283,  0.29923002,  0.23584373, -0.35073563,  0.12939426,\n",
              "         0.70855856, -0.06868987],\n",
              "       [-0.74123886,  0.29923002,  0.45323013, -0.24151713,  0.261183  ,\n",
              "         0.70855856, -0.06868987],\n",
              "       [-0.40225628, -0.26716966, -0.60861881, -0.06676753, -0.1817736 ,\n",
              "         0.0720568 ,  0.49139675],\n",
              "       [ 0.21517627, -0.26716966, -0.17384601, -0.63470373,  0.67241268,\n",
              "         1.34506033,  0.77144006],\n",
              "       [ 0.40888061, -0.83356933, -0.7674781 , -0.39442303, -0.41362417,\n",
              "         1.02680944,  1.61157   ],\n",
              "       [-0.25697803, -1.399969  , -1.03503058,  0.08613836, -0.31600288,\n",
              "        -0.56444496,  0.21135344],\n",
              "       [-1.04390188,  0.29923002,  0.38634201, -0.74392222,  0.21847368,\n",
              "         1.34506033, -0.34873318],\n",
              "       [ 0.95367404, -0.83356933, -0.88453231, -0.83129702, -1.1396825 ,\n",
              "         1.02680944,  0.21135344],\n",
              "       [-0.92283668,  1.43202936,  1.64049429,  2.70738232,  1.58517173,\n",
              "        -1.83744848, -0.9088198 ],\n",
              "       [ 0.77207623, -0.83356933, -1.0433916 , -0.78760962, -1.10429479,\n",
              "         1.34506033, -1.46890642],\n",
              "       [-0.43857585, -0.83356933, -0.89289332, -0.39442303, -0.85414023,\n",
              "         1.02680944, -0.9088198 ],\n",
              "       [-1.16496709,  1.43202936,  2.10035013,  2.59816382,  1.76455085,\n",
              "        -1.83744848, -1.74894973],\n",
              "       [ 0.96578056, -0.83356933, -0.70058997, -0.70023482, -0.4197255 ,\n",
              "         0.70855856,  1.33152669],\n",
              "       [-0.4143628 ,  0.29923002, -0.03170876, -0.45995413, -0.01703768,\n",
              "         0.0720568 ,  0.49139675],\n",
              "       [ 0.04568498, -0.83356933, -0.75911708, -0.24151713, -0.74065548,\n",
              "        -0.24619408, -1.74894973],\n",
              "       [-1.2860323 ,  1.43202936,  0.8211148 ,  0.50116866,  0.23189661,\n",
              "        -1.20094672, -0.34873318],\n",
              "       [-0.53542801,  1.43202936,  0.52847926,  0.41379386,  0.76393264,\n",
              "        -0.24619408,  0.77144006],\n",
              "       [ 1.87376962, -0.83356933, -1.0433916 , -1.04973402, -1.49355968,\n",
              "         0.39030768,  1.33152669],\n",
              "       [-1.16496709,  1.43202936,  1.9749349 ,  2.37972682,  1.62666078,\n",
              "        -2.15569936, -1.74894973],\n",
              "       [-1.2860323 ,  1.43202936,  1.30605368,  1.50597884,  1.02751012,\n",
              "        -1.5191976 , -0.9088198 ],\n",
              "       [-0.01484762,  0.29923002, -0.25745617,  0.08613836, -0.30990155,\n",
              "        -0.88269584,  1.33152669],\n",
              "       [ 0.2878154 , -0.83356933, -0.73403403, -0.67839112, -0.89440902,\n",
              "        -0.56444496, -0.62877649],\n",
              "       [-0.68070626, -1.399969  , -1.11864073, -0.35073563, -1.04328148,\n",
              "        -0.56444496, -0.9088198 ],\n",
              "       [-0.07538022, -0.83356933, -0.74239505, -0.24151713, -0.3477298 ,\n",
              "        -0.24619408, -0.34873318],\n",
              "       [ 0.40888061, -0.83356933, -0.53336967, -0.43811043, -0.23058425,\n",
              "         0.0720568 ,  1.61157   ],\n",
              "       [ 0.04568498, -0.83356933, -0.70895099, -0.19782973, -0.52954945,\n",
              "         0.39030768, -0.34873318],\n",
              "       [-1.2860323 ,  1.43202936,  1.22244353,  0.85066785,  1.31305239,\n",
              "        -1.20094672, -0.06868987],\n",
              "       [ 0.89314144, -0.83356933, -0.70895099, -0.52548523, -0.31600288,\n",
              "         1.02680944,  1.61157   ],\n",
              "       [ 1.26844358, -0.83356933, -0.98486449, -0.89682812, -1.22510113,\n",
              "        -0.24619408,  0.77144006],\n",
              "       [-0.92283668,  1.43202936,  1.64049429,  1.39676034,  2.06107552,\n",
              "        -1.20094672, -0.34873318],\n",
              "       [-1.4070975 ,  1.43202936,  1.22244353,  1.61519734,  1.85485054,\n",
              "        -0.88269584, -0.9088198 ],\n",
              "       [-0.07538022, -0.83356933, -0.53336967, -0.50364153, -0.41484443,\n",
              "         0.39030768, -0.34873318],\n",
              "       [ 0.10621759, -0.83356933, -0.4413985 , -0.39442303, -0.29159755,\n",
              "         0.0720568 ,  0.21135344],\n",
              "       [ 0.348348  , -0.83356933, -0.53336967, -0.74392222, -0.50514412,\n",
              "        -0.56444496, -0.06868987],\n",
              "       [-0.74123886,  1.43202936,  0.84619784,  0.74144935,  1.50829497,\n",
              "        -0.88269584, -0.06868987],\n",
              "       [ 1.12316533, -0.83356933, -0.70895099, -0.13229863, -0.44413082,\n",
              "        -0.24619408,  1.33152669],\n",
              "       [-1.04390188,  1.43202936,  1.22244353,  0.85066785,  1.78285484,\n",
              "        -0.56444496, -0.34873318],\n",
              "       [-0.07538022,  1.43202936,  1.22244353,  0.41379386,  1.12391114,\n",
              "         0.39030768,  0.77144006],\n",
              "       [ 0.04568498,  0.29923002, -0.03170876, -0.54732893,  0.04031483,\n",
              "         0.70855856, -0.06868987],\n",
              "       [ 1.23212402, -0.83356933, -0.89289332, -0.85314072, -1.01765589,\n",
              "         0.70855856,  1.05148337],\n",
              "       [ 1.30476314, -0.83356933, -0.88453231, -0.89682812, -1.1396825 ,\n",
              "         0.0720568 ,  1.33152669],\n",
              "       [-0.92283668,  1.43202936,  0.8211148 ,  0.74144935,  1.41799527,\n",
              "        -0.56444496, -0.62877649],\n",
              "       [-0.46278889,  0.29923002,  2.05854505, -0.45995413,  0.01346898,\n",
              "         0.70855856,  0.77144006],\n",
              "       [-0.36593672,  0.29923002,  0.17731662,  0.08613836,  0.46496744,\n",
              "         0.39030768,  0.77144006],\n",
              "       [ 2.50330869, -0.83356933, -0.95142043, -1.26817101, -1.09087186,\n",
              "         1.98156209,  1.05148337],\n",
              "       [ 2.07958047, -0.83356933, -0.99322551, -0.89682812, -1.06036521,\n",
              "         1.02680944,  1.05148337],\n",
              "       [ 1.51057399, -0.83356933, -0.88453231, -0.87498442, -1.4386477 ,\n",
              "        -0.56444496,  0.49139675],\n",
              "       [-1.16496709,  1.43202936,  0.95489104,  0.95988635,  1.53514082,\n",
              "        -0.24619408, -0.9088198 ],\n",
              "       [-1.16496709,  1.43202936,  2.10035013,  2.59816382,  0.13061452,\n",
              "        -1.83744848, -1.74894973],\n",
              "       [ 0.40888061, -0.83356933, -0.89289332, -1.00604662, -1.39715865,\n",
              "         1.02680944, -1.46890642]])"
            ]
          },
          "metadata": {},
          "execution_count": 133
        }
      ]
    },
    {
      "cell_type": "code",
      "source": [
        "model.fit(X_train,Y_train)"
      ],
      "metadata": {
        "colab": {
          "base_uri": "https://localhost:8080/"
        },
        "id": "SUjZPNEWbvYz",
        "outputId": "d6d14171-30ca-466c-c9b3-3b4c18cdfa4c"
      },
      "execution_count": null,
      "outputs": [
        {
          "output_type": "execute_result",
          "data": {
            "text/plain": [
              "DecisionTreeClassifier(max_depth=8)"
            ]
          },
          "metadata": {},
          "execution_count": 157
        }
      ]
    },
    {
      "cell_type": "code",
      "source": [
        " Y_pred = model.predict(X_test)"
      ],
      "metadata": {
        "id": "ZxvUib8Zbyuz"
      },
      "execution_count": null,
      "outputs": []
    },
    {
      "cell_type": "code",
      "source": [
        "print(Y_pred)"
      ],
      "metadata": {
        "colab": {
          "base_uri": "https://localhost:8080/"
        },
        "id": "5e4nof_7ds_i",
        "outputId": "bdee2adb-77ea-4c54-e80a-ed9bffe91fae"
      },
      "execution_count": null,
      "outputs": [
        {
          "output_type": "stream",
          "name": "stdout",
          "text": [
            "[' US.' ' Europe.' ' US.' ' US.' ' US.' ' Japan.' ' US.' ' US.' ' Europe.'\n",
            " ' US.' ' US.' ' US.' ' Europe.' ' Japan.' ' US.' ' US.' ' US.' ' Japan.'\n",
            " ' US.' ' US.' ' Japan.' ' US.' ' US.' ' US.' ' US.' ' Europe.' ' Japan.'\n",
            " ' US.' ' US.' ' US.' ' US.' ' Europe.' ' US.' ' US.' ' US.' ' US.' ' US.'\n",
            " ' US.' ' Japan.' ' US.' ' US.' ' US.' ' Japan.' ' US.' ' US.' ' US.'\n",
            " ' US.' ' Europe.' ' Japan.' ' US.' ' US.' ' US.' ' Europe.']\n"
          ]
        }
      ]
    },
    {
      "cell_type": "code",
      "source": [
        "metrics.accuracy_score(Y_pred,Y_test)"
      ],
      "metadata": {
        "colab": {
          "base_uri": "https://localhost:8080/"
        },
        "id": "9h9XHKVAb7ID",
        "outputId": "bfecbd6b-170d-4977-f441-8dfd5a9d5dbd"
      },
      "execution_count": null,
      "outputs": [
        {
          "output_type": "execute_result",
          "data": {
            "text/plain": [
              "0.8113207547169812"
            ]
          },
          "metadata": {},
          "execution_count": 160
        }
      ]
    },
    {
      "cell_type": "code",
      "source": [],
      "metadata": {
        "id": "s5uUT2JCcbqL"
      },
      "execution_count": null,
      "outputs": []
    }
  ]
}